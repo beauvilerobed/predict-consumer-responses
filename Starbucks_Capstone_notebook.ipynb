{
 "cells": [
  {
   "cell_type": "markdown",
   "metadata": {},
   "source": [
    "# Starbucks Capstone Challenge\n",
    "\n",
    "### Introduction\n",
    "\n",
    "This data set contains simulated data that mimics customer behavior on the Starbucks rewards mobile app. Once every few days, Starbucks sends out an offer to users of the mobile app. An offer can be merely an advertisement for a drink or an actual offer such as a discount or BOGO (buy one get one free). Some users might not receive any offer during certain weeks. \n",
    "\n",
    "Not all users receive the same offer, and that is the challenge to solve with this data set.\n",
    "\n",
    "Your task is to combine transaction, demographic and offer data to determine which demographic groups respond best to which offer type. This data set is a simplified version of the real Starbucks app because the underlying simulator only has one product whereas Starbucks actually sells dozens of products.\n",
    "\n",
    "Every offer has a validity period before the offer expires. As an example, a BOGO offer might be valid for only 5 days. You'll see in the data set that informational offers have a validity period even though these ads are merely providing information about a product; for example, if an informational offer has 7 days of validity, you can assume the customer is feeling the influence of the offer for 7 days after receiving the advertisement.\n",
    "\n",
    "You'll be given transactional data showing user purchases made on the app including the timestamp of purchase and the amount of money spent on a purchase. This transactional data also has a record for each offer that a user receives as well as a record for when a user actually views the offer. There are also records for when a user completes an offer. \n",
    "\n",
    "Keep in mind as well that someone using the app might make a purchase through the app without having received an offer or seen an offer.\n",
    "\n",
    "### Example\n",
    "\n",
    "To give an example, a user could receive a discount offer buy 10 dollars get 2 off on Monday. The offer is valid for 10 days from receipt. If the customer accumulates at least 10 dollars in purchases during the validity period, the customer completes the offer.\n",
    "\n",
    "However, there are a few things to watch out for in this data set. Customers do not opt into the offers that they receive; in other words, a user can receive an offer, never actually view the offer, and still complete the offer. For example, a user might receive the \"buy 10 dollars get 2 dollars off offer\", but the user never opens the offer during the 10 day validity period. The customer spends 15 dollars during those ten days. There will be an offer completion record in the data set; however, the customer was not influenced by the offer because the customer never viewed the offer.\n",
    "\n",
    "### Cleaning\n",
    "\n",
    "This makes data cleaning especially important and tricky.\n",
    "\n",
    "You'll also want to take into account that some demographic groups will make purchases even if they don't receive an offer. From a business perspective, if a customer is going to make a 10 dollar purchase without an offer anyway, you wouldn't want to send a buy 10 dollars get 2 dollars off offer. You'll want to try to assess what a certain demographic group will buy when not receiving any offers.\n",
    "\n",
    "### Final Advice\n",
    "\n",
    "Because this is a capstone project, you are free to analyze the data any way you see fit. For example, you could build a machine learning model that predicts how much someone will spend based on demographics and offer type. Or you could build a model that predicts whether or not someone will respond to an offer. Or, you don't need to build a machine learning model at all. You could develop a set of heuristics that determine what offer you should send to each customer (i.e., 75 percent of women customers who were 35 years old responded to offer A vs 40 percent from the same demographic to offer B, so send offer A)."
   ]
  },
  {
   "cell_type": "markdown",
   "metadata": {},
   "source": [
    "# Data Sets\n",
    "\n",
    "The data is contained in three files:\n",
    "\n",
    "* portfolio.json - containing offer ids and meta data about each offer (duration, type, etc.)\n",
    "* profile.json - demographic data for each customer\n",
    "* transcript.json - records for transactions, offers received, offers viewed, and offers completed\n",
    "\n",
    "Here is the schema and explanation of each variable in the files:\n",
    "\n",
    "**portfolio.json**\n",
    "* id (string) - offer id\n",
    "* offer_type (string) - type of offer ie BOGO, discount, informational\n",
    "* difficulty (int) - minimum required spend to complete an offer\n",
    "* reward (int) - reward given for completing an offer\n",
    "* duration (int) - time for offer to be open, in days\n",
    "* channels (list of strings)\n",
    "\n",
    "**profile.json**\n",
    "* age (int) - age of the customer \n",
    "* became_member_on (int) - date when customer created an app account\n",
    "* gender (str) - gender of the customer (note some entries contain 'O' for other rather than M or F)\n",
    "* id (str) - customer id\n",
    "* income (float) - customer's income\n",
    "\n",
    "**transcript.json**\n",
    "* event (str) - record description (ie transaction, offer received, offer viewed, etc.)\n",
    "* person (str) - customer id\n",
    "* time (int) - time in hours since start of test. The data begins at time t=0\n",
    "* value - (dict of strings) - either an offer id or transaction amount depending on the record"
   ]
  },
  {
   "cell_type": "code",
   "execution_count": 1,
   "metadata": {},
   "outputs": [],
   "source": [
    "import pandas as pd\n",
    "\n",
    "# read in the json files\n",
    "portfolio = pd.read_json('data/portfolio.json', orient='records', lines=True)\n",
    "profile = pd.read_json('data/profile.json', orient='records', lines=True)\n",
    "transcript = pd.read_json('data/transcript.json', orient='records', lines=True)"
   ]
  },
  {
   "cell_type": "code",
   "execution_count": 3,
   "metadata": {},
   "outputs": [
    {
     "name": "stdout",
     "output_type": "stream",
     "text": [
      "   reward                      channels  difficulty  duration     offer_type  \\\n",
      "0      10       [email, mobile, social]          10         7           bogo   \n",
      "1      10  [web, email, mobile, social]          10         5           bogo   \n",
      "2       0          [web, email, mobile]           0         4  informational   \n",
      "3       5          [web, email, mobile]           5         7           bogo   \n",
      "4       5                  [web, email]          20        10       discount   \n",
      "5       3  [web, email, mobile, social]           7         7       discount   \n",
      "6       2  [web, email, mobile, social]          10        10       discount   \n",
      "7       0       [email, mobile, social]           0         3  informational   \n",
      "8       5  [web, email, mobile, social]           5         5           bogo   \n",
      "9       2          [web, email, mobile]          10         7       discount   \n",
      "\n",
      "                                 id  \n",
      "0  ae264e3637204a6fb9bb56bc8210ddfd  \n",
      "1  4d5c57ea9a6940dd891ad53e9dbe8da0  \n",
      "2  3f207df678b143eea3cee63160fa8bed  \n",
      "3  9b98b8c7a33c4b65b9aebfe6a799e6d9  \n",
      "4  0b1e1539f2cc45b7b9fa7c272da2e1d7  \n",
      "5  2298d6c36e964ae4a3e7e9706d1fb8c2  \n",
      "6  fafdcd668e3743c1bb461111dcafc2a4  \n",
      "7  5a8bc65990b245e5a138643cd4eb9837  \n",
      "8  f19421c1d4aa40978ebb69ca19b0e20d  \n",
      "9  2906b810c7d4411798c6938adc9daaa5  \n"
     ]
    }
   ],
   "source": [
    "print(portfolio)"
   ]
  },
  {
   "cell_type": "code",
   "execution_count": 4,
   "metadata": {},
   "outputs": [
    {
     "name": "stdout",
     "output_type": "stream",
     "text": [
      "      gender  age                                id  became_member_on  \\\n",
      "0       None  118  68be06ca386d4c31939f3a4f0e3dd783          20170212   \n",
      "1          F   55  0610b486422d4921ae7d2bf64640c50b          20170715   \n",
      "2       None  118  38fe809add3b4fcf9315a9694bb96ff5          20180712   \n",
      "3          F   75  78afa995795e4d85b5d9ceeca43f5fef          20170509   \n",
      "4       None  118  a03223e636434f42ac4c3df47e8bac43          20170804   \n",
      "...      ...  ...                               ...               ...   \n",
      "16995      F   45  6d5f3a774f3d4714ab0c092238f3a1d7          20180604   \n",
      "16996      M   61  2cb4f97358b841b9a9773a7aa05a9d77          20180713   \n",
      "16997      M   49  01d26f638c274aa0b965d24cefe3183f          20170126   \n",
      "16998      F   83  9dc1421481194dcd9400aec7c9ae6366          20160307   \n",
      "16999      F   62  e4052622e5ba45a8b96b59aba68cf068          20170722   \n",
      "\n",
      "         income  \n",
      "0           NaN  \n",
      "1      112000.0  \n",
      "2           NaN  \n",
      "3      100000.0  \n",
      "4           NaN  \n",
      "...         ...  \n",
      "16995   54000.0  \n",
      "16996   72000.0  \n",
      "16997   73000.0  \n",
      "16998   50000.0  \n",
      "16999   82000.0  \n",
      "\n",
      "[17000 rows x 5 columns]\n"
     ]
    }
   ],
   "source": [
    "print(profile)"
   ]
  },
  {
   "cell_type": "code",
   "execution_count": 5,
   "metadata": {},
   "outputs": [
    {
     "name": "stdout",
     "output_type": "stream",
     "text": [
      "                                  person           event  \\\n",
      "0       78afa995795e4d85b5d9ceeca43f5fef  offer received   \n",
      "1       a03223e636434f42ac4c3df47e8bac43  offer received   \n",
      "2       e2127556f4f64592b11af22de27a7932  offer received   \n",
      "3       8ec6ce2a7e7949b1bf142def7d0e0586  offer received   \n",
      "4       68617ca6246f4fbc85e91a2a49552598  offer received   \n",
      "...                                  ...             ...   \n",
      "306529  b3a1272bc9904337b331bf348c3e8c17     transaction   \n",
      "306530  68213b08d99a4ae1b0dcb72aebd9aa35     transaction   \n",
      "306531  a00058cf10334a308c68e7631c529907     transaction   \n",
      "306532  76ddbd6576844afe811f1a3c0fbb5bec     transaction   \n",
      "306533  c02b10e8752c4d8e9b73f918558531f7     transaction   \n",
      "\n",
      "                                                   value  time  \n",
      "0       {'offer id': '9b98b8c7a33c4b65b9aebfe6a799e6d9'}     0  \n",
      "1       {'offer id': '0b1e1539f2cc45b7b9fa7c272da2e1d7'}     0  \n",
      "2       {'offer id': '2906b810c7d4411798c6938adc9daaa5'}     0  \n",
      "3       {'offer id': 'fafdcd668e3743c1bb461111dcafc2a4'}     0  \n",
      "4       {'offer id': '4d5c57ea9a6940dd891ad53e9dbe8da0'}     0  \n",
      "...                                                  ...   ...  \n",
      "306529                    {'amount': 1.5899999999999999}   714  \n",
      "306530                                  {'amount': 9.53}   714  \n",
      "306531                                  {'amount': 3.61}   714  \n",
      "306532                    {'amount': 3.5300000000000002}   714  \n",
      "306533                                  {'amount': 4.05}   714  \n",
      "\n",
      "[306534 rows x 4 columns]\n"
     ]
    }
   ],
   "source": [
    "print(transcript)"
   ]
  },
  {
   "cell_type": "code",
   "execution_count": 11,
   "metadata": {},
   "outputs": [
    {
     "name": "stdout",
     "output_type": "stream",
     "text": [
      "                                  person           event  \\\n",
      "0       78afa995795e4d85b5d9ceeca43f5fef  offer received   \n",
      "1       a03223e636434f42ac4c3df47e8bac43  offer received   \n",
      "2       e2127556f4f64592b11af22de27a7932  offer received   \n",
      "3       8ec6ce2a7e7949b1bf142def7d0e0586  offer received   \n",
      "4       68617ca6246f4fbc85e91a2a49552598  offer received   \n",
      "...                                  ...             ...   \n",
      "257882  d087c473b4d247ccb0abfef59ba12b0e  offer received   \n",
      "257883  cb23b66c56f64b109d673d5e56574529  offer received   \n",
      "257884  6d5f3a774f3d4714ab0c092238f3a1d7  offer received   \n",
      "257885  9dc1421481194dcd9400aec7c9ae6366  offer received   \n",
      "257886  e4052622e5ba45a8b96b59aba68cf068  offer received   \n",
      "\n",
      "                                                   value  time  \n",
      "0       {'offer id': '9b98b8c7a33c4b65b9aebfe6a799e6d9'}     0  \n",
      "1       {'offer id': '0b1e1539f2cc45b7b9fa7c272da2e1d7'}     0  \n",
      "2       {'offer id': '2906b810c7d4411798c6938adc9daaa5'}     0  \n",
      "3       {'offer id': 'fafdcd668e3743c1bb461111dcafc2a4'}     0  \n",
      "4       {'offer id': '4d5c57ea9a6940dd891ad53e9dbe8da0'}     0  \n",
      "...                                                  ...   ...  \n",
      "257882  {'offer id': 'ae264e3637204a6fb9bb56bc8210ddfd'}   576  \n",
      "257883  {'offer id': '2906b810c7d4411798c6938adc9daaa5'}   576  \n",
      "257884  {'offer id': '2298d6c36e964ae4a3e7e9706d1fb8c2'}   576  \n",
      "257885  {'offer id': 'ae264e3637204a6fb9bb56bc8210ddfd'}   576  \n",
      "257886  {'offer id': '3f207df678b143eea3cee63160fa8bed'}   576  \n",
      "\n",
      "[76277 rows x 4 columns]\n"
     ]
    }
   ],
   "source": [
    "offers = transcript[transcript['event']==\"offer received\"]\n",
    "print(offers)"
   ]
  },
  {
   "cell_type": "markdown",
   "metadata": {},
   "source": [
    "## Find whether a dataset is blanced or imbalanced?"
   ]
  },
  {
   "cell_type": "code",
   "execution_count": 20,
   "metadata": {},
   "outputs": [
    {
     "name": "stdout",
     "output_type": "stream",
     "text": [
      "defaultdict(<class 'int'>, {'9b98b8c7a33c4b65b9aebfe6a799e6d9': 7677, '0b1e1539f2cc45b7b9fa7c272da2e1d7': 7668, '2906b810c7d4411798c6938adc9daaa5': 7632, 'fafdcd668e3743c1bb461111dcafc2a4': 7597, '4d5c57ea9a6940dd891ad53e9dbe8da0': 7593, 'f19421c1d4aa40978ebb69ca19b0e20d': 7571, '2298d6c36e964ae4a3e7e9706d1fb8c2': 7646, '3f207df678b143eea3cee63160fa8bed': 7617, 'ae264e3637204a6fb9bb56bc8210ddfd': 7658, '5a8bc65990b245e5a138643cd4eb9837': 7618})\n"
     ]
    }
   ],
   "source": [
    "from collections import defaultdict\n",
    "\n",
    "offer_count = defaultdict(int)\n",
    "for offer in offers.value:\n",
    "    val = offer['offer id']\n",
    "    if val in offer_count:\n",
    "        offer_count[val]+=1\n",
    "    else:\n",
    "        offer_count[val] = 1\n",
    "\n",
    "print(offer_count)\n",
    "        "
   ]
  },
  {
   "cell_type": "code",
   "execution_count": 27,
   "metadata": {},
   "outputs": [
    {
     "data": {
      "text/plain": [
       "Text(0.5, 0, 'offer id')"
      ]
     },
     "execution_count": 27,
     "metadata": {},
     "output_type": "execute_result"
    },
    {
     "data": {
      "image/png": "[encoded data removed]",
      "text/plain": [
       "<Figure size 432x288 with 1 Axes>"
      ]
     },
     "metadata": {
      "needs_background": "light"
     },
     "output_type": "display_data"
    }
   ],
   "source": [
    "data = pd.DataFrame.from_dict(offer_count, orient='index')\n",
    "bar_plot = data.plot.bar(title=\"Number of occurrences of each offer\")\n",
    "bar_plot.set_xlabel(\"offer id\")\n"
   ]
  }
 ],
 "metadata": {
  "kernelspec": {
   "display_name": "Python 3",
   "language": "python",
   "name": "python3"
  },
  "language_info": {
   "codemirror_mode": {
    "name": "ipython",
    "version": 3
   },
   "file_extension": ".py",
   "mimetype": "text/x-python",
   "name": "python",
   "nbconvert_exporter": "python",
   "pygments_lexer": "ipython3",
   "version": "3.7.0"
  }
 },
 "nbformat": 4,
 "nbformat_minor": 2
}
